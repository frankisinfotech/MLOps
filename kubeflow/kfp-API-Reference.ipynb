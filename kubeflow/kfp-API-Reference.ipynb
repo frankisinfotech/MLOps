# Library Imports
import kfp
import logging

# Configure logging
logging.basicConfig(level=logging.INFO)

# Set your Kubeflow Pipelines endpoint here
kfp_endpoint = None
client = kfp.Client(host=kfp_endpoint)

# Experiment name
experiment_name = "My Experiment"

# Create a new experiment
def create_experiment(client, experiment_name):
  experiment = client.create_experiment(name=experiment_name)
  logging.info(f"Created experiment: {experiment.name}")
  return experiment


# List all experiments
def list_experiments(client):
  experiments = client.list_experiments()
  logging.info(f"Experiments: {experiments}")
  return experiments

# Create a Run from a pipeline function
def create_run_from_pipeline_func(client, pipeline_func, experiment_name, enable_caching=False):
  run = client.create_run_from_pipeline_func(
     pipeline_func,
     experiment_name=experiment_name,
     enable_caching=enable_caching
  )
  logging.info("Pipeline run initiated")
  return run

# List all runs for a given experiment
def list_runs(client, experiment_id):
  runs = client.list_runs(experiment_id=experiment_id)
  logging.info(f"Runs: {runs}")
  return runs

# Delete a specific run by run_id
def delete_run(client, run_id):
  client.delete_run(run_id)
  logging.info(f"Deleted run: {run_id}")

# List all runs for a given experiment and delete the first run
def delete_previous_run(client, experiment_id):
  runs = list_runs(client, experiment_id)
  if runs and runs.runs:
     run_id = runs.runs[0].run_id
     logging.info(f"Deleting run: {run_id}")
     delete_run(client, run_id)

# Delete a specific experiment by experiment_id
def delete_experiment(client, experiment_id):
  client.delete_experiment(experiment_id)
  logging.info(f"Deleted experiment: {experiment_id}")
