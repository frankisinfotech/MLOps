from kfp import dsl

@dsl.component
def num_add(a: int,b: int) -> int:
    return a+b

@dsl.component
def num_sub(c: int,d: int) -> int:
    return c-d

@dsl.component
def num_mul(e: int,f: int) -> int:
    return e*f

@dsl.pipeline
def num_pipeline(a:int=1,b:int=2,c:int=3,d:int=4) -> int:
    
    num_add_task1 = num_add(a=a,b=b)
    num_sub_task2 = num_sub(c=c,d=d)
    num_mul_task3 = num_mul(e=num_add_task1.output,f=num_sub_task2.output)
    
    return num_mul_task3.output




from kfp import compiler

compiler.Compiler().compile(num_pipeline, 'num_pipeline.yaml')
